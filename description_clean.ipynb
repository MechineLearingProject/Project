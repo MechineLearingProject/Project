{
 "cells": [
  {
   "cell_type": "code",
   "execution_count": 17,
   "metadata": {
    "collapsed": false
   },
   "outputs": [
    {
     "name": "stdout",
     "output_type": "stream",
     "text": [
      "object\n",
      "<bound method Series.to_json of 0       {'retweeted': False, 'is_quote_status': False,...\n",
      "1       Status(_api=<tweepy.api.API object at 0x101927...\n",
      "2       {'created_at': 'Fri Feb 26 17:01:15 +0000 2016...\n",
      "3       {u'contributors': None, u'truncated': False, u...\n",
      "4       {u'contributors': None, u'truncated': False, u...\n",
      "5       Status(in_reply_to_user_id=None, favorited=Fal...\n",
      "6       Status(_api=<tweepy.api.API object at 0x101927...\n",
      "7       {u'contributors': None, u'truncated': False, u...\n",
      "8       {\"created_at\": \"Mon Mar 13 02:55:10 +0000 2017...\n",
      "9       {\"created_at\": \"Mon Mar 13 02:52:13 +0000 2017...\n",
      "10      {u'contributors': None, u'truncated': False, u...\n",
      "11      {u'contributors': None, u'truncated': False, u...\n",
      "12      {\"created_at\": \"Mon Mar 13 02:56:53 +0000 2017...\n",
      "13      {u'contributors': None, u'truncated': False, u...\n",
      "14                                                   None\n",
      "15                                                    NaN\n",
      "16      {u'contributors': None, u'truncated': False, u...\n",
      "17      {u'contributors': None, u'truncated': False, u...\n",
      "18      {u'contributors': None, u'truncated': False, u...\n",
      "19                                                   None\n",
      "20      {\\r      \"created_at\": \"Sun Jun 19 14:09:12 +0...\n",
      "21      {u'contributors': None, u'truncated': False, u...\n",
      "22                                                   null\n",
      "23      {u'contributors': None, u'truncated': False, u...\n",
      "24                            @SHERPAServices ROMEO down?\n",
      "25      Status(contributors=None, truncated=False, tex...\n",
      "26      {'created_at': 'Tue Aug 23 00:46:02 +0000 2016...\n",
      "27      {u'contributors': None, u'truncated': False, u...\n",
      "28      {u'contributors': None, u'truncated': False, u...\n",
      "29      {'favorited': False, 'id_str': '84113858380527...\n",
      "                              ...                        \n",
      "1026    Making New Connections: Insights from Primate-...\n",
      "1027                                                  NaN\n",
      "1028      Forest Stewardship Plan https://t.co/Uw9ZWbIKmK\n",
      "1029    Status(contributors=None, truncated=False, tex...\n",
      "1030    {u'contributors': None, u'truncated': False, u...\n",
      "1031    {u'contributors': None, u'truncated': False, u...\n",
      "1032    {u'contributors': None, u'truncated': False, u...\n",
      "1033    {u'contributors': None, u'truncated': False, u...\n",
      "1034                                                 null\n",
      "1035                                                 None\n",
      "1036    Common Variant Associations with Fragile X Syn...\n",
      "1037    {'truncated': False, 'entities': {'user_mentio...\n",
      "1038    {u'contributors': None, u'truncated': False, u...\n",
      "1039    {\\r      \"created_at\": \"Sun Mar 12 15:42:28 +0...\n",
      "1040    {u'contributors': None, u'truncated': False, u...\n",
      "1041    {'retweeted': False, 'is_quote_status': False,...\n",
      "1042    {\\r      \"created_at\": \"Sun Mar 12 15:46:22 +0...\n",
      "1043    Status(contributors=None, truncated=False, tex...\n",
      "1044    {\"created_at\": \"Mon Mar 13 02:57:27 +0000 2017...\n",
      "1045    {\\r      \"created_at\": \"Sun Mar 12 15:39:09 +0...\n",
      "1046    {\\r      \"created_at\": \"Sun Mar 12 02:49:43 +0...\n",
      "1047    {'created_at': 'Tue Mar 14 02:25:40 +0000 2017...\n",
      "1048    Status(contributors=None, truncated=False, tex...\n",
      "1049    {'created_at': 'Fri Mar 10 10:56:39 +0000 2017...\n",
      "1050    {u'contributors': None, u'truncated': False, u...\n",
      "1051    {u'contributors': None, u'truncated': False, u...\n",
      "1052    {u'contributors': None, u'truncated': False, u...\n",
      "1053    {u'contributors': None, u'truncated': False, u...\n",
      "1054    Kynurenic acid downregulates IL-17/1L-23 axis ...\n",
      "1055    {'truncated': False, 'entities': {'user_mentio...\n",
      "Name: status, dtype: object>\n"
     ]
    },
    {
     "data": {
      "text/plain": [
       "<function pandas.io.json.read_json>"
      ]
     },
     "execution_count": 17,
     "metadata": {},
     "output_type": "execute_result"
    }
   ],
   "source": [
    "import pandas as pd\n",
    "import numpy as np\n",
    "import nltk\n",
    "path_to_insults = 'data/'\n",
    "df = pd.read_csv(path_to_insults + 'bots_data.csv')\n",
    "# df = df.drop('des_bot', 1)\n",
    "df.insert(4,'des_bot',0)\n",
    "\n",
    "# description = df.description #you can also use df['column_name']\n",
    "df.loc[pd.notnull(df['description']) & df['description'].str.contains(\"bot|Twitterbot\"), 'des_bot'] = 1\n",
    "# df.to_csv(path_to_insults + 'bots_data.csv') \n",
    "print(df.status.dtype)\n",
    "status = df.status.to_json\n",
    "# print(status)\n",
    "pd.read_json\n",
    "# create_at = df.status.created_at\n",
    "# print(create_at)\n",
    "# df"
   ]
  }
 ],
 "metadata": {
  "kernelspec": {
   "display_name": "Python 2",
   "language": "python",
   "name": "python2"
  },
  "language_info": {
   "codemirror_mode": {
    "name": "ipython",
    "version": 2
   },
   "file_extension": ".py",
   "mimetype": "text/x-python",
   "name": "python",
   "nbconvert_exporter": "python",
   "pygments_lexer": "ipython2",
   "version": "2.7.13"
  }
 },
 "nbformat": 4,
 "nbformat_minor": 2
}
